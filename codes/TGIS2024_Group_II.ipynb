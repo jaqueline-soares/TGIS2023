{
  "cells": [
    {
      "cell_type": "markdown",
      "metadata": {
        "id": "A_ghflPmRuB_"
      },
      "source": [
        "# TGIS 2024"
      ]
    },
    {
      "cell_type": "markdown",
      "metadata": {
        "id": "k_Owq5fw34ms"
      },
      "source": [
        "## 1.Obtaining GeoNN_best from Group I of experiments"
      ]
    },
    {
      "cell_type": "code",
      "source": [
        "#Check the Python version\n",
        "!python --version"
      ],
      "metadata": {
        "colab": {
          "base_uri": "https://localhost:8080/"
        },
        "id": "fNSd0UpILDpI",
        "outputId": "432f23b6-f6eb-4a5a-e612-81fc558226fd"
      },
      "execution_count": 1,
      "outputs": [
        {
          "output_type": "stream",
          "name": "stdout",
          "text": [
            "Python 3.10.12\n"
          ]
        }
      ]
    },
    {
      "cell_type": "code",
      "execution_count": null,
      "metadata": {
        "id": "0U-bXxjpogYb"
      },
      "outputs": [],
      "source": [
        "# Import all packages needed\n",
        "\n",
        "%tensorflow_version 2.x\n",
        "\n",
        "import pandas as pd\n",
        "from pandas import DataFrame\n",
        "import numpy as np\n",
        "from numpy.random import Generator, PCG64\n",
        "import matplotlib.pyplot as plt\n",
        "from matplotlib.ticker import FuncFormatter\n",
        "from matplotlib.lines import Line2D\n",
        "import tensorflow as tf\n",
        "from tensorflow.keras.optimizers import Adam\n",
        "from keras import backend as K\n",
        "from keras.layers import Dense\n",
        "from keras.models import Model, Sequential\n",
        "from keras.callbacks import ModelCheckpoint, Callback, EarlyStopping\n",
        "from sklearn.model_selection import train_test_split\n",
        "import scipy.stats as st\n",
        "import random\n",
        "import os"
      ]
    },
    {
      "cell_type": "code",
      "execution_count": 3,
      "metadata": {
        "id": "ZnkEWPg1D2oZ"
      },
      "outputs": [],
      "source": [
        "# Configuration Set\n",
        "\n",
        "# 1. Set the path to the dataset in the GitHub repository\n",
        "PATH_DATA = \"https://raw.githubusercontent.com/jaqueline-soares/TGIS2024/main/data/data_prev120min.csv\"\n",
        "\n",
        "# 2. Set the noise distribution. Options: 'UNIFORM' or 'NORMAL'.\n",
        "DISTRIBUTION = 'UNIFORM'\n",
        "#DISTRIBUTION = 'NORMAL'"
      ]
    },
    {
      "cell_type": "code",
      "execution_count": 4,
      "metadata": {
        "id": "A7jBjKVaezxr"
      },
      "outputs": [],
      "source": [
        "# This function resets the seeds to guarantee the reproducibility of the experiments\n",
        "def reset_seed(seed_value):\n",
        "\n",
        "  # Set the `PYTHONHASHSEED` environment variable at a fixed value\n",
        "  os.environ['PYTHONHASHSEED']=str(seed_value)\n",
        "\n",
        "  # Set the `python` built-in pseudo-random generator at a fixed value\n",
        "  random.seed(seed_value)\n",
        "\n",
        "  # Set the `numpy` pseudo-random generator at a fixed value\n",
        "  np.random.seed(seed_value)\n",
        "  np.random.RandomState(seed_value)\n",
        "\n",
        "  # Set the `tensorflow` pseudo-random generator at a fixed value\n",
        "  tf.random.set_seed(seed_value)\n",
        "  # for later versions:\n",
        "  tf.compat.v1.set_random_seed(seed_value)\n",
        "\n",
        "  # Configure a new global `tensorflow` session\n",
        "  # session_conf = tf.ConfigProto(intra_op_parallelism_threads=1, inter_op_parallelism_threads=1)\n",
        "  # sess = tf.Session(graph=tf.get_default_graph(), config=session_conf)\n",
        "  # K.set_session(sess)\n",
        "  # for later versions:\n",
        "  session_conf = tf.compat.v1.ConfigProto(intra_op_parallelism_threads=1, inter_op_parallelism_threads=1)\n",
        "  sess = tf.compat.v1.Session(graph=tf.compat.v1.get_default_graph(), config=session_conf)\n",
        "  tf.compat.v1.keras.backend.set_session(sess)"
      ]
    },
    {
      "cell_type": "code",
      "execution_count": 5,
      "metadata": {
        "id": "uI3tdmN1cqLI"
      },
      "outputs": [],
      "source": [
        "# This function returns a truncated normal distribution\n",
        "def get_truncated_normal(mean, sd, low, up, size):\n",
        "    return st.truncnorm(\n",
        "        (low - mean) / sd, (up - mean) / sd, loc=mean, scale=sd).rvs(size=size)"
      ]
    },
    {
      "cell_type": "code",
      "execution_count": 6,
      "metadata": {
        "id": "vnXyq1ztebvP"
      },
      "outputs": [],
      "source": [
        "# Other configurations\n",
        "\n",
        "# Set the `tensorflow` pseudo-random generator at a fixed value\n",
        "SEED = 0\n",
        "# Set the best seed for 120-minute predictions (Group I of experiments)\n",
        "SEED_BEST = 97848\n",
        "# Set the number of perturbations per input data\n",
        "N_PERTURBATIONS = 10_000\n",
        "# Set the possible additive noise rates\n",
        "NOISE_ARRAY = np.linspace(-0.15, 0.15, num=121)\n",
        "\n",
        "# Distribution configuration\n",
        "if DISTRIBUTION == 'UNIFORM':\n",
        "  GENERATOR_NOISE = Generator(PCG64(SEED))\n",
        "  RANDOM_INDEX_NOISE = GENERATOR_NOISE.integers(low=0, high=len(NOISE_ARRAY), size=N_PERTURBATIONS)\n",
        "elif DISTRIBUTION == 'NORMAL':\n",
        "  reset_seed(SEED)\n",
        "  RANDOM_INDEX_NOISE = get_truncated_normal(mean=60, sd=20, low=0, up=len(NOISE_ARRAY)-1, size=N_PERTURBATIONS)\n",
        "  RANDOM_INDEX_NOISE = RANDOM_INDEX_NOISE.round().astype(int)"
      ]
    },
    {
      "cell_type": "code",
      "execution_count": 7,
      "metadata": {
        "id": "pAWRq6SaJ7Le"
      },
      "outputs": [],
      "source": [
        "# This function calculates the Nash–Sutcliffe efficiency coefficient for the predicted values \"y_pred\" relative to the \"y_true\".\n",
        "def nse(y_true, y_pred):\n",
        "\treturn 1 - (K.sum((y_true - y_pred)**2)/\n",
        "                         K.sum((y_true - K.mean(y_true))**2))\n",
        "\n",
        "# This function calculates the RMSE between the predicted values \"y_pred\" and the observed ones \"y_true\".\n",
        "def rmse(y_true, y_pred):\n",
        "\treturn K.sqrt(K.mean(K.square(y_pred - y_true), axis=-1))"
      ]
    },
    {
      "cell_type": "code",
      "execution_count": 8,
      "metadata": {
        "id": "V3hHJ-7emxX8"
      },
      "outputs": [],
      "source": [
        "# This function returns the x values normalized\n",
        "def norm(x, min, max):\n",
        "    if (max - min) != 0:\n",
        "        return (x - min) / (max - min)\n",
        "    else:\n",
        "        return np.nan\n",
        "\n",
        "# This function returns the train_input, test_input, and val_input values normalized\n",
        "def normalize_data(data, train_input, test_input, val_input):\n",
        "\n",
        "  # Create empty datasets to store normalized data\n",
        "  normed_train_data = DataFrame(columns=columns)\n",
        "  normed_test_data = DataFrame(columns=columns)\n",
        "  normed_val_data = DataFrame(columns=columns)\n",
        "\n",
        "  # For each column\n",
        "  for var_col in columns:\n",
        "    MIN = data[var_col].min()\n",
        "    MAX = data[var_col].max()\n",
        "    normed_train_data[var_col] = norm(train_input[var_col], MIN, MAX)\n",
        "    normed_test_data[var_col] = norm(test_input[var_col], MIN, MAX)\n",
        "    normed_val_data[var_col] = norm(val_input[var_col], MIN, MAX)\n",
        "\n",
        "  return normed_train_data, normed_test_data, normed_val_data"
      ]
    },
    {
      "cell_type": "code",
      "execution_count": 9,
      "metadata": {
        "id": "6hz7uBYQpJui"
      },
      "outputs": [],
      "source": [
        "# This function loads the dataset from the repository\n",
        "def read_data(path):\n",
        "\n",
        "  data = pd.read_csv(path)\n",
        "\n",
        "  data['datahora'] = pd.to_datetime(data['datahora'])\n",
        "  data = data.set_index('datahora')\n",
        "  data = data[183:]\n",
        "  columns = []\n",
        "  for column in data.columns:\n",
        "    if 'acum12h' in column:\n",
        "     columns.append(column)\n",
        "\n",
        "  data.describe()\n",
        "  return data, columns"
      ]
    },
    {
      "cell_type": "code",
      "execution_count": 10,
      "metadata": {
        "id": "OlLe-PaZwO-Q"
      },
      "outputs": [],
      "source": [
        "class GetWeights(Callback):\n",
        "\n",
        "    # Keras callback which collects values of weights and biases at each epoch\n",
        "    def __init__(self):\n",
        "        super(GetWeights, self).__init__()\n",
        "        self.weight_dict = {}\n",
        "\n",
        "    # This function runs at the end of each epoch\n",
        "    def on_epoch_end(self, epoch, logs=None):\n",
        "\n",
        "        # loop over each layer and get weights and biases\n",
        "        for layer_i in range(len(self.model.layers)):\n",
        "            w = self.model.layers[layer_i].get_weights()[0]\n",
        "            b = self.model.layers[layer_i].get_weights()[1]\n",
        "\n",
        "            # save all weights and biases inside a dictionary\n",
        "            if epoch == 0:\n",
        "                # create arrays to hold weights and biases\n",
        "                self.weight_dict['w_'+str(layer_i+1)] = w\n",
        "                self.weight_dict['b_'+str(layer_i+1)] = b\n",
        "            else:\n",
        "                # append new weights to previously-created weights arrays\n",
        "                self.weight_dict['w_'+str(layer_i+1)] = np.dstack(\n",
        "                    (self.weight_dict['w_'+str(layer_i+1)], w))\n",
        "                self.weight_dict['b_'+str(layer_i+1)] = np.dstack(\n",
        "                    (self.weight_dict['b_'+str(layer_i+1)], b))"
      ]
    },
    {
      "cell_type": "code",
      "execution_count": 11,
      "metadata": {
        "id": "_ybY_2yjq5HT"
      },
      "outputs": [],
      "source": [
        "# This function splits arrays or matrices into train and test subsets\n",
        "def shuffle_train_test_split(data, columns, seed):\n",
        "\n",
        "  X_train, X_test, y_train, y_test = train_test_split(data[columns], data[['out']], test_size=0.1, random_state=seed)\n",
        "  X_train, X_val, y_train, y_val = train_test_split(X_train, y_train, test_size=0.1111, random_state=seed)\n",
        "\n",
        "  train_input = X_train[columns]\n",
        "  train_targets = y_train['out']\n",
        "\n",
        "  test_input = X_test[columns]\n",
        "  test_targets = y_test['out']\n",
        "\n",
        "  val_input = X_val[columns]\n",
        "  val_targets = y_val['out']\n",
        "\n",
        "  # reindex the datasets\n",
        "  train_input.reset_index(inplace=True, drop=True)\n",
        "  train_targets.reset_index(inplace=True, drop=True)\n",
        "\n",
        "  test_input.reset_index(inplace=True, drop=True)\n",
        "  test_targets.reset_index(inplace=True, drop=True)\n",
        "\n",
        "  val_input.reset_index(inplace=True, drop=True)\n",
        "  val_targets.reset_index(inplace=True, drop=True)\n",
        "\n",
        "  return train_input, train_targets, test_input, test_targets, val_input, val_targets"
      ]
    },
    {
      "cell_type": "code",
      "execution_count": 12,
      "metadata": {
        "id": "wlLmb_2IrME3"
      },
      "outputs": [],
      "source": [
        "# This function defines the neural network architecture\n",
        "def model_creation(normed_train_data):\n",
        "\n",
        "  input_dim = normed_train_data.shape[1]\n",
        "  output_dim = 1\n",
        "\n",
        "  model = Sequential()\n",
        "  model.add(Dense(120,input_shape=(input_dim,),activation=tf.keras.activations.relu))\n",
        "  model.add(Dense(50, activation=tf.keras.activations.relu))\n",
        "  model.add(Dense(10, activation=tf.keras.activations.relu))\n",
        "  model.add(Dense(output_dim, activation='linear' ))\n",
        "\n",
        "  return model\n",
        "\n",
        "# This function configures the model for training\n",
        "def model_compile(model):\n",
        "\n",
        "  opt = tf.keras.optimizers.Adam(learning_rate=1e-3)\n",
        "  model.compile(optimizer = opt, loss='mse', metrics=[rmse, nse])\n",
        "  model.summary()\n",
        "  checkpointer = ModelCheckpoint(filepath='checkpoint_model.hdf5', verbose=0, save_best_only=True)\n",
        "\n",
        "  return model\n",
        "\n",
        "# This function trains the model for a fixed number of epochs (dataset iterations)\n",
        "def model_training_validation(model, normed_train_data, train_targets, normed_val_data, val_targets):\n",
        "\n",
        "  gw = GetWeights()\n",
        "  es_callback = EarlyStopping(monitor='loss', patience=12)\n",
        "  model.fit(normed_train_data, train_targets, epochs=3000, batch_size=1024,\n",
        "                      validation_data=(normed_val_data, val_targets),\n",
        "                      callbacks=[es_callback], verbose=0)\n",
        "\n",
        "  return model\n",
        "\n",
        "# This function returns the loss value & metrics values for the model in test mode\n",
        "def model_tests(model, normed_test_data, test_targets):\n",
        "\n",
        "  loss, rmse_val, nse_val = model.evaluate(normed_test_data, test_targets, verbose=0, batch_size=1024)\n",
        "  return loss, rmse_val, nse_val"
      ]
    },
    {
      "cell_type": "code",
      "execution_count": 13,
      "metadata": {
        "id": "Q4x_lI8ZEKjf"
      },
      "outputs": [],
      "source": [
        "# This function constructs and returns a DataFrame from a dictionary with the metrics information\n",
        "def get_df_metrics(seed_array, rmse_array, nse_array):\n",
        "\n",
        "  dict = {\n",
        "      'seed': seed_array,\n",
        "      'rmse': rmse_array,\n",
        "      'nse': nse_array\n",
        "      }\n",
        "  df = DataFrame(data=dict)\n",
        "\n",
        "  return df"
      ]
    },
    {
      "cell_type": "code",
      "execution_count": 14,
      "metadata": {
        "colab": {
          "base_uri": "https://localhost:8080/"
        },
        "id": "vrdKIfyBmPTR",
        "outputId": "cd6d3f6a-3555-45d1-dd74-f68b02153d20"
      },
      "outputs": [
        {
          "output_type": "stream",
          "name": "stdout",
          "text": [
            "\n",
            "****************************Seed 97848****************************\n",
            "Model: \"sequential\"\n",
            "_________________________________________________________________\n",
            " Layer (type)                Output Shape              Param #   \n",
            "=================================================================\n",
            " dense (Dense)               (None, 120)               45480     \n",
            "                                                                 \n",
            " dense_1 (Dense)             (None, 50)                6050      \n",
            "                                                                 \n",
            " dense_2 (Dense)             (None, 10)                510       \n",
            "                                                                 \n",
            " dense_3 (Dense)             (None, 1)                 11        \n",
            "                                                                 \n",
            "=================================================================\n",
            "Total params: 52051 (203.32 KB)\n",
            "Trainable params: 52051 (203.32 KB)\n",
            "Non-trainable params: 0 (0.00 Byte)\n",
            "_________________________________________________________________\n"
          ]
        }
      ],
      "source": [
        "# Main flow\n",
        "\n",
        "# Load dataset from PATH_DATA\n",
        "data, columns = read_data(PATH_DATA)\n",
        "\n",
        "# Initialize arrays of metrics\n",
        "rmse_array = []\n",
        "nse_array = []\n",
        "\n",
        "# Clear clutter from previous session graphs\n",
        "K.clear_session()\n",
        "reset_seed(SEED)\n",
        "\n",
        "# Generate the GeoNN_best from SEED_BEST of Group I-experiments\n",
        "print(\"\\n****************************Seed {}****************************\".format(SEED_BEST))\n",
        "train_input, train_targets, test_input, test_targets, val_input, val_targets = shuffle_train_test_split(data, columns, SEED_BEST)\n",
        "normed_train_data, normed_test_data, normed_val_data = normalize_data(data, train_input, test_input, val_input)\n",
        "model = model_creation(normed_train_data)\n",
        "model = model_compile(model)\n",
        "model = model_training_validation(model, normed_train_data, train_targets, normed_val_data, val_targets)\n",
        "loss, rmse_val, nse_val = model_tests(model, normed_test_data, test_targets)\n",
        "rmse_array.append(rmse_val)\n",
        "nse_array.append(nse_val)"
      ]
    },
    {
      "cell_type": "code",
      "execution_count": 15,
      "metadata": {
        "id": "ev28IB5Yg87H"
      },
      "outputs": [],
      "source": [
        "# Clear clutter from previous session graphs\n",
        "K.clear_session()\n",
        "reset_seed(SEED)"
      ]
    },
    {
      "cell_type": "code",
      "execution_count": 16,
      "metadata": {
        "colab": {
          "base_uri": "https://localhost:8080/",
          "height": 81
        },
        "id": "E2O3K4-dJiRC",
        "outputId": "b189da31-a260-4c86-b7a0-603a87914db8"
      },
      "outputs": [
        {
          "output_type": "execute_result",
          "data": {
            "text/plain": [
              "    seed      rmse      nse\n",
              "0  97848  0.030929  0.90288"
            ],
            "text/html": [
              "\n",
              "  <div id=\"df-4ca5c7ce-3ced-4923-8f72-cd027a2c4b33\" class=\"colab-df-container\">\n",
              "    <div>\n",
              "<style scoped>\n",
              "    .dataframe tbody tr th:only-of-type {\n",
              "        vertical-align: middle;\n",
              "    }\n",
              "\n",
              "    .dataframe tbody tr th {\n",
              "        vertical-align: top;\n",
              "    }\n",
              "\n",
              "    .dataframe thead th {\n",
              "        text-align: right;\n",
              "    }\n",
              "</style>\n",
              "<table border=\"1\" class=\"dataframe\">\n",
              "  <thead>\n",
              "    <tr style=\"text-align: right;\">\n",
              "      <th></th>\n",
              "      <th>seed</th>\n",
              "      <th>rmse</th>\n",
              "      <th>nse</th>\n",
              "    </tr>\n",
              "  </thead>\n",
              "  <tbody>\n",
              "    <tr>\n",
              "      <th>0</th>\n",
              "      <td>97848</td>\n",
              "      <td>0.030929</td>\n",
              "      <td>0.90288</td>\n",
              "    </tr>\n",
              "  </tbody>\n",
              "</table>\n",
              "</div>\n",
              "    <div class=\"colab-df-buttons\">\n",
              "\n",
              "  <div class=\"colab-df-container\">\n",
              "    <button class=\"colab-df-convert\" onclick=\"convertToInteractive('df-4ca5c7ce-3ced-4923-8f72-cd027a2c4b33')\"\n",
              "            title=\"Convert this dataframe to an interactive table.\"\n",
              "            style=\"display:none;\">\n",
              "\n",
              "  <svg xmlns=\"http://www.w3.org/2000/svg\" height=\"24px\" viewBox=\"0 -960 960 960\">\n",
              "    <path d=\"M120-120v-720h720v720H120Zm60-500h600v-160H180v160Zm220 220h160v-160H400v160Zm0 220h160v-160H400v160ZM180-400h160v-160H180v160Zm440 0h160v-160H620v160ZM180-180h160v-160H180v160Zm440 0h160v-160H620v160Z\"/>\n",
              "  </svg>\n",
              "    </button>\n",
              "\n",
              "  <style>\n",
              "    .colab-df-container {\n",
              "      display:flex;\n",
              "      gap: 12px;\n",
              "    }\n",
              "\n",
              "    .colab-df-convert {\n",
              "      background-color: #E8F0FE;\n",
              "      border: none;\n",
              "      border-radius: 50%;\n",
              "      cursor: pointer;\n",
              "      display: none;\n",
              "      fill: #1967D2;\n",
              "      height: 32px;\n",
              "      padding: 0 0 0 0;\n",
              "      width: 32px;\n",
              "    }\n",
              "\n",
              "    .colab-df-convert:hover {\n",
              "      background-color: #E2EBFA;\n",
              "      box-shadow: 0px 1px 2px rgba(60, 64, 67, 0.3), 0px 1px 3px 1px rgba(60, 64, 67, 0.15);\n",
              "      fill: #174EA6;\n",
              "    }\n",
              "\n",
              "    .colab-df-buttons div {\n",
              "      margin-bottom: 4px;\n",
              "    }\n",
              "\n",
              "    [theme=dark] .colab-df-convert {\n",
              "      background-color: #3B4455;\n",
              "      fill: #D2E3FC;\n",
              "    }\n",
              "\n",
              "    [theme=dark] .colab-df-convert:hover {\n",
              "      background-color: #434B5C;\n",
              "      box-shadow: 0px 1px 3px 1px rgba(0, 0, 0, 0.15);\n",
              "      filter: drop-shadow(0px 1px 2px rgba(0, 0, 0, 0.3));\n",
              "      fill: #FFFFFF;\n",
              "    }\n",
              "  </style>\n",
              "\n",
              "    <script>\n",
              "      const buttonEl =\n",
              "        document.querySelector('#df-4ca5c7ce-3ced-4923-8f72-cd027a2c4b33 button.colab-df-convert');\n",
              "      buttonEl.style.display =\n",
              "        google.colab.kernel.accessAllowed ? 'block' : 'none';\n",
              "\n",
              "      async function convertToInteractive(key) {\n",
              "        const element = document.querySelector('#df-4ca5c7ce-3ced-4923-8f72-cd027a2c4b33');\n",
              "        const dataTable =\n",
              "          await google.colab.kernel.invokeFunction('convertToInteractive',\n",
              "                                                    [key], {});\n",
              "        if (!dataTable) return;\n",
              "\n",
              "        const docLinkHtml = 'Like what you see? Visit the ' +\n",
              "          '<a target=\"_blank\" href=https://colab.research.google.com/notebooks/data_table.ipynb>data table notebook</a>'\n",
              "          + ' to learn more about interactive tables.';\n",
              "        element.innerHTML = '';\n",
              "        dataTable['output_type'] = 'display_data';\n",
              "        await google.colab.output.renderOutput(dataTable, element);\n",
              "        const docLink = document.createElement('div');\n",
              "        docLink.innerHTML = docLinkHtml;\n",
              "        element.appendChild(docLink);\n",
              "      }\n",
              "    </script>\n",
              "  </div>\n",
              "\n",
              "\n",
              "    </div>\n",
              "  </div>\n"
            ],
            "application/vnd.google.colaboratory.intrinsic+json": {
              "type": "dataframe",
              "variable_name": "df",
              "summary": "{\n  \"name\": \"df\",\n  \"rows\": 1,\n  \"fields\": [\n    {\n      \"column\": \"seed\",\n      \"properties\": {\n        \"dtype\": \"number\",\n        \"std\": null,\n        \"min\": 97848,\n        \"max\": 97848,\n        \"num_unique_values\": 1,\n        \"samples\": [\n          97848\n        ],\n        \"semantic_type\": \"\",\n        \"description\": \"\"\n      }\n    },\n    {\n      \"column\": \"rmse\",\n      \"properties\": {\n        \"dtype\": \"number\",\n        \"std\": null,\n        \"min\": 0.03092947043478489,\n        \"max\": 0.03092947043478489,\n        \"num_unique_values\": 1,\n        \"samples\": [\n          0.03092947043478489\n        ],\n        \"semantic_type\": \"\",\n        \"description\": \"\"\n      }\n    },\n    {\n      \"column\": \"nse\",\n      \"properties\": {\n        \"dtype\": \"number\",\n        \"std\": null,\n        \"min\": 0.9028797149658203,\n        \"max\": 0.9028797149658203,\n        \"num_unique_values\": 1,\n        \"samples\": [\n          0.9028797149658203\n        ],\n        \"semantic_type\": \"\",\n        \"description\": \"\"\n      }\n    }\n  ]\n}"
            }
          },
          "metadata": {},
          "execution_count": 16
        }
      ],
      "source": [
        "df = get_df_metrics([SEED_BEST], rmse_array, nse_array)\n",
        "df.head()"
      ]
    },
    {
      "cell_type": "markdown",
      "metadata": {
        "id": "DlOLgGA04C4o"
      },
      "source": [
        "## 2.Group II of experiments"
      ]
    },
    {
      "cell_type": "code",
      "execution_count": 17,
      "metadata": {
        "colab": {
          "base_uri": "https://localhost:8080/"
        },
        "id": "gyveDuTAXSku",
        "outputId": "07f25ad8-49cd-438b-826b-5ac816470bce"
      },
      "outputs": [
        {
          "output_type": "stream",
          "name": "stdout",
          "text": [
            "Index of the highest river level in the test dataset:  1278\n",
            "Highest river level in the test dataset:  3.48\n"
          ]
        }
      ],
      "source": [
        "print('Index of the highest river level in the test dataset: ', test_targets.idxmax())\n",
        "print('Highest river level in the test dataset: ', test_targets.loc[test_targets.idxmax()])"
      ]
    },
    {
      "cell_type": "code",
      "execution_count": null,
      "metadata": {
        "id": "utLW56ZP7nTI"
      },
      "outputs": [],
      "source": [
        "# 100-instant interval from index 1200 to 1300. This specific time interval was selected since it presents the higher observed outlet river level in the test dataset.\n",
        "df_test = pd.concat([normed_test_data.iloc[1200:1300], test_targets.iloc[1200:1300]], axis=1)\n",
        "df_test.reset_index(inplace=True)"
      ]
    },
    {
      "cell_type": "code",
      "execution_count": 19,
      "metadata": {
        "id": "kwc8mh3JO4rQ"
      },
      "outputs": [],
      "source": [
        "# Colors used in the graphs\n",
        "COLOR_1 = 'tab:blue'\n",
        "# Font size  used in the graphs\n",
        "FONTSIZE_LARGE = 24"
      ]
    },
    {
      "cell_type": "code",
      "execution_count": 20,
      "metadata": {
        "id": "aA6SuarkmVGC"
      },
      "outputs": [],
      "source": [
        "# This function plots a histogram from data\n",
        "def plot_histogram(data, axes_labels, filename, bins=15):\n",
        "\n",
        "  fig, axs = plt.subplots(figsize=(11,8))\n",
        "\n",
        "  n, bins, patches = axs.hist(data, bins = bins, color=COLOR_1, alpha=0.6, edgecolor=\"black\")\n",
        "\n",
        "  axs.set_xlabel(axes_labels[0], fontsize=FONTSIZE_LARGE)\n",
        "  axs.set_ylabel(axes_labels[1], fontsize=FONTSIZE_LARGE)\n",
        "  plt.xticks(fontsize=FONTSIZE_LARGE)\n",
        "  plt.yticks(fontsize=FONTSIZE_LARGE)\n",
        "  axs.yaxis.set_major_formatter(FuncFormatter(lambda y, _: f'{y/100}'))\n",
        "\n",
        "  plt.show()"
      ]
    },
    {
      "cell_type": "code",
      "execution_count": 21,
      "metadata": {
        "id": "-TYHNpoXjErE"
      },
      "outputs": [],
      "source": [
        "PERTURBATIONS=[]\n",
        "for index in RANDOM_INDEX_NOISE:\n",
        "  # Generate the array with additive noise rates from -15 to +15\n",
        "  PERTURBATIONS.append(NOISE_ARRAY[index]*100)"
      ]
    },
    {
      "cell_type": "code",
      "execution_count": 22,
      "metadata": {
        "colab": {
          "base_uri": "https://localhost:8080/",
          "height": 734
        },
        "id": "Va5yDfD-cZsZ",
        "outputId": "9ac5d324-acbe-412e-d10f-7d306dfe2fc8"
      },
      "outputs": [
        {
          "output_type": "display_data",
          "data": {
            "text/plain": [
              "<Figure size 1100x800 with 1 Axes>"
            ],
            "image/png": "[encoded data removed]"
          },
          "metadata": {}
        }
      ],
      "source": [
        "plot_histogram(PERTURBATIONS, ['Additive-noise rate (%)', 'Frequency (%)'], filename=\"hist\", bins=len(NOISE_ARRAY))"
      ]
    },
    {
      "cell_type": "code",
      "execution_count": 23,
      "metadata": {
        "colab": {
          "base_uri": "https://localhost:8080/"
        },
        "id": "H2fM_SBklJVD",
        "outputId": "bfcfdea7-42e2-40b4-801a-e1e6c766d29a"
      },
      "outputs": [
        {
          "output_type": "stream",
          "name": "stdout",
          "text": [
            "Standard deviation of the river level values:  0.16148699976331618\n",
            "\n",
            "Average of the river level values:  1.6287416949998441\n",
            "\n",
            "Flood Threshold (mean + 2 * standard deviation):  1.9517156945264764\n"
          ]
        }
      ],
      "source": [
        "# Metrics for the entire dataset\n",
        "\n",
        "# Calculate the standard deviation of the river level values\n",
        "THRESHOLD_SIGMA_DS = np.std(data['out'])\n",
        "print('Standard deviation of the river level values: ', THRESHOLD_SIGMA_DS)\n",
        "\n",
        "# Calculate the average of the river level values\n",
        "THRESHOLD_MEAN_DS = np.mean(data['out'])\n",
        "print('\\nAverage of the river level values: ', THRESHOLD_MEAN_DS)\n",
        "\n",
        "# Calculate the flood threshold, corresponding to the sum of the mean of the river level values plus two times the standard deviation of this distribution\n",
        "THRESHOLD_FLOOD_DS = THRESHOLD_MEAN_DS + 2 * THRESHOLD_SIGMA_DS\n",
        "print('\\nFlood Threshold (mean + 2 * standard deviation): ', THRESHOLD_FLOOD_DS)"
      ]
    },
    {
      "cell_type": "code",
      "execution_count": 24,
      "metadata": {
        "id": "l6kxim4fvdyh"
      },
      "outputs": [],
      "source": [
        "# This function calculates all possible perturbations to the observed input data 'data' according to the 121 discrete noise levels\n",
        "def get_perturbation_all_options(data):\n",
        "  input_perturbation_all_options = []\n",
        "  output_perturbation_all_options = []\n",
        "\n",
        "  for i in range(len(NOISE_ARRAY)):\n",
        "    input_perturbation = (data * (1 + NOISE_ARRAY[i])).values.tolist()\n",
        "    input_perturbation_all_options.append(input_perturbation)\n",
        "    output_perturbation_all_options.append(model.predict([input_perturbation], verbose = 0)[0][0])\n",
        "\n",
        "  return input_perturbation_all_options, output_perturbation_all_options"
      ]
    },
    {
      "cell_type": "code",
      "execution_count": 25,
      "metadata": {
        "id": "NKUAjcflwGtd"
      },
      "outputs": [],
      "source": [
        "# This function generates structures to store 'N_PERTURBATIONS' input perturbations and the corresponding model predictions for each observed input data in 'df'\n",
        "def get_input_array(df):\n",
        "  input_real_array = []\n",
        "  output_prediction_array = []\n",
        "  noise = []\n",
        "  input_perturbation_array = []\n",
        "  output_perturbation_array = []\n",
        "\n",
        "  for index, row in df.iterrows():\n",
        "    input_perturbation_all_options, output_perturbation_all_options = get_perturbation_all_options(row[columns])\n",
        "    group_noise_array = []\n",
        "    group_input_array = []\n",
        "    group_output_array = []\n",
        "\n",
        "    for i in range(N_PERTURBATIONS):\n",
        "      random_index = RANDOM_INDEX_NOISE[i]\n",
        "      group_noise_array.append(NOISE_ARRAY[random_index])\n",
        "      group_input_array.append(input_perturbation_all_options[random_index])\n",
        "      group_output_array.append(output_perturbation_all_options[random_index])\n",
        "\n",
        "    input_real_array.append(row[columns].values.tolist())\n",
        "    output_prediction_array.append(model.predict([row[columns].values.tolist()], verbose = 0)[0][0])\n",
        "    noise.append(group_noise_array)\n",
        "    input_perturbation_array.append(group_input_array)\n",
        "    output_perturbation_array.append(group_output_array)\n",
        "\n",
        "  return input_real_array, output_prediction_array, noise, input_perturbation_array, output_perturbation_array"
      ]
    },
    {
      "cell_type": "code",
      "execution_count": 26,
      "metadata": {
        "id": "KbznX-ZA--ij"
      },
      "outputs": [],
      "source": [
        "input_real_array, output_prediction_array, perturbation_array, input_perturbation_array, output_perturbation_array = get_input_array(df_test)"
      ]
    },
    {
      "cell_type": "code",
      "execution_count": 27,
      "metadata": {
        "id": "6xX8MebOnwaS"
      },
      "outputs": [],
      "source": [
        "# This function constructs and returns a DataFrame from a dictionary with the Group II-experiments information\n",
        "def get_df_variations(df_test, input_real_array, output_prediction_array, perturbation_array, input_perturbation_array, output_perturbation_array, threshold):\n",
        "\n",
        "  alert = []\n",
        "  mean_output_perturbation = []\n",
        "  median_output_perturbation = []\n",
        "  min_output_perturbation = []\n",
        "  max_output_perturbation = []\n",
        "  std_output_perturbation = []\n",
        "  for output_perturbation in output_perturbation_array:\n",
        "    alert.append(np.sum(level > threshold for level in output_perturbation) / np.size(output_perturbation))\n",
        "    mean_output_perturbation.append(np.mean(output_perturbation))\n",
        "    median_output_perturbation.append(np.median(output_perturbation))\n",
        "    min_output_perturbation.append(np.min(output_perturbation))\n",
        "    max_output_perturbation.append(np.max(output_perturbation))\n",
        "    std_output_perturbation.append(np.std(output_perturbation))\n",
        "\n",
        "  dict = {\n",
        "      'input_real': input_real_array,\n",
        "      'perturbation': perturbation_array,\n",
        "      'input_perturbation': input_perturbation_array,\n",
        "      'output_real': df_test['out'],\n",
        "      'output_prediction': output_prediction_array,\n",
        "      'output_perturbation': output_perturbation_array,\n",
        "      'alert': alert,\n",
        "      'std_output_perturbation': std_output_perturbation,\n",
        "      'mean_output_perturbation': mean_output_perturbation,\n",
        "      'median_output_perturbation': median_output_perturbation,\n",
        "      'min_output_perturbation': min_output_perturbation,\n",
        "      'max_output_perturbation': max_output_perturbation\n",
        "      }\n",
        "  df_variations = DataFrame(data=dict)\n",
        "\n",
        "  return df_variations"
      ]
    },
    {
      "cell_type": "code",
      "execution_count": null,
      "metadata": {
        "id": "Vf_Ez1zuPJCo"
      },
      "outputs": [],
      "source": [
        "df_variations = get_df_variations(df_test, input_real_array, output_prediction_array, perturbation_array, input_perturbation_array, output_perturbation_array, THRESHOLD_FLOOD_DS)"
      ]
    },
    {
      "cell_type": "code",
      "execution_count": 29,
      "metadata": {
        "id": "Afphq0_mPCwx",
        "colab": {
          "base_uri": "https://localhost:8080/",
          "height": 269
        },
        "outputId": "76721ec5-f76d-42e4-aab8-8217ba8aecbe"
      },
      "outputs": [
        {
          "output_type": "execute_result",
          "data": {
            "text/plain": [
              "    output_real  median_output_perturbation   alert\n",
              "14         2.87                    3.043872  1.0000\n",
              "48         2.23                    2.261650  1.0000\n",
              "49         2.32                    2.380873  1.0000\n",
              "64         1.94                    1.999654  0.8061\n",
              "73         2.14                    2.235871  1.0000\n",
              "78         3.48                    3.559029  1.0000\n",
              "89         2.13                    2.179374  1.0000"
            ],
            "text/html": [
              "\n",
              "  <div id=\"df-f2e6151b-c684-461d-9559-5ddefae00edf\" class=\"colab-df-container\">\n",
              "    <div>\n",
              "<style scoped>\n",
              "    .dataframe tbody tr th:only-of-type {\n",
              "        vertical-align: middle;\n",
              "    }\n",
              "\n",
              "    .dataframe tbody tr th {\n",
              "        vertical-align: top;\n",
              "    }\n",
              "\n",
              "    .dataframe thead th {\n",
              "        text-align: right;\n",
              "    }\n",
              "</style>\n",
              "<table border=\"1\" class=\"dataframe\">\n",
              "  <thead>\n",
              "    <tr style=\"text-align: right;\">\n",
              "      <th></th>\n",
              "      <th>output_real</th>\n",
              "      <th>median_output_perturbation</th>\n",
              "      <th>alert</th>\n",
              "    </tr>\n",
              "  </thead>\n",
              "  <tbody>\n",
              "    <tr>\n",
              "      <th>14</th>\n",
              "      <td>2.87</td>\n",
              "      <td>3.043872</td>\n",
              "      <td>1.0000</td>\n",
              "    </tr>\n",
              "    <tr>\n",
              "      <th>48</th>\n",
              "      <td>2.23</td>\n",
              "      <td>2.261650</td>\n",
              "      <td>1.0000</td>\n",
              "    </tr>\n",
              "    <tr>\n",
              "      <th>49</th>\n",
              "      <td>2.32</td>\n",
              "      <td>2.380873</td>\n",
              "      <td>1.0000</td>\n",
              "    </tr>\n",
              "    <tr>\n",
              "      <th>64</th>\n",
              "      <td>1.94</td>\n",
              "      <td>1.999654</td>\n",
              "      <td>0.8061</td>\n",
              "    </tr>\n",
              "    <tr>\n",
              "      <th>73</th>\n",
              "      <td>2.14</td>\n",
              "      <td>2.235871</td>\n",
              "      <td>1.0000</td>\n",
              "    </tr>\n",
              "    <tr>\n",
              "      <th>78</th>\n",
              "      <td>3.48</td>\n",
              "      <td>3.559029</td>\n",
              "      <td>1.0000</td>\n",
              "    </tr>\n",
              "    <tr>\n",
              "      <th>89</th>\n",
              "      <td>2.13</td>\n",
              "      <td>2.179374</td>\n",
              "      <td>1.0000</td>\n",
              "    </tr>\n",
              "  </tbody>\n",
              "</table>\n",
              "</div>\n",
              "    <div class=\"colab-df-buttons\">\n",
              "\n",
              "  <div class=\"colab-df-container\">\n",
              "    <button class=\"colab-df-convert\" onclick=\"convertToInteractive('df-f2e6151b-c684-461d-9559-5ddefae00edf')\"\n",
              "            title=\"Convert this dataframe to an interactive table.\"\n",
              "            style=\"display:none;\">\n",
              "\n",
              "  <svg xmlns=\"http://www.w3.org/2000/svg\" height=\"24px\" viewBox=\"0 -960 960 960\">\n",
              "    <path d=\"M120-120v-720h720v720H120Zm60-500h600v-160H180v160Zm220 220h160v-160H400v160Zm0 220h160v-160H400v160ZM180-400h160v-160H180v160Zm440 0h160v-160H620v160ZM180-180h160v-160H180v160Zm440 0h160v-160H620v160Z\"/>\n",
              "  </svg>\n",
              "    </button>\n",
              "\n",
              "  <style>\n",
              "    .colab-df-container {\n",
              "      display:flex;\n",
              "      gap: 12px;\n",
              "    }\n",
              "\n",
              "    .colab-df-convert {\n",
              "      background-color: #E8F0FE;\n",
              "      border: none;\n",
              "      border-radius: 50%;\n",
              "      cursor: pointer;\n",
              "      display: none;\n",
              "      fill: #1967D2;\n",
              "      height: 32px;\n",
              "      padding: 0 0 0 0;\n",
              "      width: 32px;\n",
              "    }\n",
              "\n",
              "    .colab-df-convert:hover {\n",
              "      background-color: #E2EBFA;\n",
              "      box-shadow: 0px 1px 2px rgba(60, 64, 67, 0.3), 0px 1px 3px 1px rgba(60, 64, 67, 0.15);\n",
              "      fill: #174EA6;\n",
              "    }\n",
              "\n",
              "    .colab-df-buttons div {\n",
              "      margin-bottom: 4px;\n",
              "    }\n",
              "\n",
              "    [theme=dark] .colab-df-convert {\n",
              "      background-color: #3B4455;\n",
              "      fill: #D2E3FC;\n",
              "    }\n",
              "\n",
              "    [theme=dark] .colab-df-convert:hover {\n",
              "      background-color: #434B5C;\n",
              "      box-shadow: 0px 1px 3px 1px rgba(0, 0, 0, 0.15);\n",
              "      filter: drop-shadow(0px 1px 2px rgba(0, 0, 0, 0.3));\n",
              "      fill: #FFFFFF;\n",
              "    }\n",
              "  </style>\n",
              "\n",
              "    <script>\n",
              "      const buttonEl =\n",
              "        document.querySelector('#df-f2e6151b-c684-461d-9559-5ddefae00edf button.colab-df-convert');\n",
              "      buttonEl.style.display =\n",
              "        google.colab.kernel.accessAllowed ? 'block' : 'none';\n",
              "\n",
              "      async function convertToInteractive(key) {\n",
              "        const element = document.querySelector('#df-f2e6151b-c684-461d-9559-5ddefae00edf');\n",
              "        const dataTable =\n",
              "          await google.colab.kernel.invokeFunction('convertToInteractive',\n",
              "                                                    [key], {});\n",
              "        if (!dataTable) return;\n",
              "\n",
              "        const docLinkHtml = 'Like what you see? Visit the ' +\n",
              "          '<a target=\"_blank\" href=https://colab.research.google.com/notebooks/data_table.ipynb>data table notebook</a>'\n",
              "          + ' to learn more about interactive tables.';\n",
              "        element.innerHTML = '';\n",
              "        dataTable['output_type'] = 'display_data';\n",
              "        await google.colab.output.renderOutput(dataTable, element);\n",
              "        const docLink = document.createElement('div');\n",
              "        docLink.innerHTML = docLinkHtml;\n",
              "        element.appendChild(docLink);\n",
              "      }\n",
              "    </script>\n",
              "  </div>\n",
              "\n",
              "\n",
              "<div id=\"df-0e8fdaea-7a72-4769-bdd0-0053df4417d1\">\n",
              "  <button class=\"colab-df-quickchart\" onclick=\"quickchart('df-0e8fdaea-7a72-4769-bdd0-0053df4417d1')\"\n",
              "            title=\"Suggest charts\"\n",
              "            style=\"display:none;\">\n",
              "\n",
              "<svg xmlns=\"http://www.w3.org/2000/svg\" height=\"24px\"viewBox=\"0 0 24 24\"\n",
              "     width=\"24px\">\n",
              "    <g>\n",
              "        <path d=\"M19 3H5c-1.1 0-2 .9-2 2v14c0 1.1.9 2 2 2h14c1.1 0 2-.9 2-2V5c0-1.1-.9-2-2-2zM9 17H7v-7h2v7zm4 0h-2V7h2v10zm4 0h-2v-4h2v4z\"/>\n",
              "    </g>\n",
              "</svg>\n",
              "  </button>\n",
              "\n",
              "<style>\n",
              "  .colab-df-quickchart {\n",
              "      --bg-color: #E8F0FE;\n",
              "      --fill-color: #1967D2;\n",
              "      --hover-bg-color: #E2EBFA;\n",
              "      --hover-fill-color: #174EA6;\n",
              "      --disabled-fill-color: #AAA;\n",
              "      --disabled-bg-color: #DDD;\n",
              "  }\n",
              "\n",
              "  [theme=dark] .colab-df-quickchart {\n",
              "      --bg-color: #3B4455;\n",
              "      --fill-color: #D2E3FC;\n",
              "      --hover-bg-color: #434B5C;\n",
              "      --hover-fill-color: #FFFFFF;\n",
              "      --disabled-bg-color: #3B4455;\n",
              "      --disabled-fill-color: #666;\n",
              "  }\n",
              "\n",
              "  .colab-df-quickchart {\n",
              "    background-color: var(--bg-color);\n",
              "    border: none;\n",
              "    border-radius: 50%;\n",
              "    cursor: pointer;\n",
              "    display: none;\n",
              "    fill: var(--fill-color);\n",
              "    height: 32px;\n",
              "    padding: 0;\n",
              "    width: 32px;\n",
              "  }\n",
              "\n",
              "  .colab-df-quickchart:hover {\n",
              "    background-color: var(--hover-bg-color);\n",
              "    box-shadow: 0 1px 2px rgba(60, 64, 67, 0.3), 0 1px 3px 1px rgba(60, 64, 67, 0.15);\n",
              "    fill: var(--button-hover-fill-color);\n",
              "  }\n",
              "\n",
              "  .colab-df-quickchart-complete:disabled,\n",
              "  .colab-df-quickchart-complete:disabled:hover {\n",
              "    background-color: var(--disabled-bg-color);\n",
              "    fill: var(--disabled-fill-color);\n",
              "    box-shadow: none;\n",
              "  }\n",
              "\n",
              "  .colab-df-spinner {\n",
              "    border: 2px solid var(--fill-color);\n",
              "    border-color: transparent;\n",
              "    border-bottom-color: var(--fill-color);\n",
              "    animation:\n",
              "      spin 1s steps(1) infinite;\n",
              "  }\n",
              "\n",
              "  @keyframes spin {\n",
              "    0% {\n",
              "      border-color: transparent;\n",
              "      border-bottom-color: var(--fill-color);\n",
              "      border-left-color: var(--fill-color);\n",
              "    }\n",
              "    20% {\n",
              "      border-color: transparent;\n",
              "      border-left-color: var(--fill-color);\n",
              "      border-top-color: var(--fill-color);\n",
              "    }\n",
              "    30% {\n",
              "      border-color: transparent;\n",
              "      border-left-color: var(--fill-color);\n",
              "      border-top-color: var(--fill-color);\n",
              "      border-right-color: var(--fill-color);\n",
              "    }\n",
              "    40% {\n",
              "      border-color: transparent;\n",
              "      border-right-color: var(--fill-color);\n",
              "      border-top-color: var(--fill-color);\n",
              "    }\n",
              "    60% {\n",
              "      border-color: transparent;\n",
              "      border-right-color: var(--fill-color);\n",
              "    }\n",
              "    80% {\n",
              "      border-color: transparent;\n",
              "      border-right-color: var(--fill-color);\n",
              "      border-bottom-color: var(--fill-color);\n",
              "    }\n",
              "    90% {\n",
              "      border-color: transparent;\n",
              "      border-bottom-color: var(--fill-color);\n",
              "    }\n",
              "  }\n",
              "</style>\n",
              "\n",
              "  <script>\n",
              "    async function quickchart(key) {\n",
              "      const quickchartButtonEl =\n",
              "        document.querySelector('#' + key + ' button');\n",
              "      quickchartButtonEl.disabled = true;  // To prevent multiple clicks.\n",
              "      quickchartButtonEl.classList.add('colab-df-spinner');\n",
              "      try {\n",
              "        const charts = await google.colab.kernel.invokeFunction(\n",
              "            'suggestCharts', [key], {});\n",
              "      } catch (error) {\n",
              "        console.error('Error during call to suggestCharts:', error);\n",
              "      }\n",
              "      quickchartButtonEl.classList.remove('colab-df-spinner');\n",
              "      quickchartButtonEl.classList.add('colab-df-quickchart-complete');\n",
              "    }\n",
              "    (() => {\n",
              "      let quickchartButtonEl =\n",
              "        document.querySelector('#df-0e8fdaea-7a72-4769-bdd0-0053df4417d1 button');\n",
              "      quickchartButtonEl.style.display =\n",
              "        google.colab.kernel.accessAllowed ? 'block' : 'none';\n",
              "    })();\n",
              "  </script>\n",
              "</div>\n",
              "\n",
              "    </div>\n",
              "  </div>\n"
            ],
            "application/vnd.google.colaboratory.intrinsic+json": {
              "type": "dataframe",
              "summary": "{\n  \"name\": \"df_alerts[['output_real', 'median_output_perturbation', 'alert']]\",\n  \"rows\": 7,\n  \"fields\": [\n    {\n      \"column\": \"output_real\",\n      \"properties\": {\n        \"dtype\": \"number\",\n        \"std\": 0.5417520079291244,\n        \"min\": 1.94,\n        \"max\": 3.48,\n        \"num_unique_values\": 7,\n        \"samples\": [\n          2.87,\n          2.23,\n          3.48\n        ],\n        \"semantic_type\": \"\",\n        \"description\": \"\"\n      }\n    },\n    {\n      \"column\": \"median_output_perturbation\",\n      \"properties\": {\n        \"dtype\": \"float32\",\n        \"num_unique_values\": 7,\n        \"samples\": [\n          3.0438716411590576,\n          2.261650323867798,\n          3.5590288639068604\n        ],\n        \"semantic_type\": \"\",\n        \"description\": \"\"\n      }\n    },\n    {\n      \"column\": \"alert\",\n      \"properties\": {\n        \"dtype\": \"number\",\n        \"std\": 0.07328731131648915,\n        \"min\": 0.8061,\n        \"max\": 1.0,\n        \"num_unique_values\": 2,\n        \"samples\": [\n          0.8061,\n          1.0\n        ],\n        \"semantic_type\": \"\",\n        \"description\": \"\"\n      }\n    }\n  ]\n}"
            }
          },
          "metadata": {},
          "execution_count": 29
        }
      ],
      "source": [
        "# Select the time instants with a non-zero probability of flooding\n",
        "df_alerts = df_variations[df_variations[\"alert\"] > 0]\n",
        "# Select specific columns\n",
        "df_alerts[['output_real', 'median_output_perturbation', 'alert']].head(20)"
      ]
    }
  ],
  "metadata": {
    "colab": {
      "provenance": []
    },
    "kernelspec": {
      "display_name": "Python 3",
      "name": "python3"
    },
    "language_info": {
      "name": "python"
    }
  },
  "nbformat": 4,
  "nbformat_minor": 0
}