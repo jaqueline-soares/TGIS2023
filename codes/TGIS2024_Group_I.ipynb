{
  "cells": [
    {
      "cell_type": "markdown",
      "metadata": {
        "id": "uTWxpb0MopaF"
      },
      "source": [
        "# TGIS 2024"
      ]
    },
    {
      "cell_type": "markdown",
      "source": [
        "## 1.Group I of experiments"
      ],
      "metadata": {
        "id": "N9T03WaKbs9e"
      }
    },
    {
      "cell_type": "code",
      "source": [
        "#Check the Python version\n",
        "!python --version"
      ],
      "metadata": {
        "colab": {
          "base_uri": "https://localhost:8080/"
        },
        "id": "a285o9r1LGa3",
        "outputId": "bf4fb4c3-17d1-4a85-9228-7fb988d3d9ab"
      },
      "execution_count": 1,
      "outputs": [
        {
          "output_type": "stream",
          "name": "stdout",
          "text": [
            "Python 3.10.12\n"
          ]
        }
      ]
    },
    {
      "cell_type": "code",
      "execution_count": null,
      "metadata": {
        "id": "0U-bXxjpogYb"
      },
      "outputs": [],
      "source": [
        "# Import all packages needed\n",
        "\n",
        "%tensorflow_version 2.x\n",
        "\n",
        "import pandas as pd\n",
        "from pandas import DataFrame\n",
        "import numpy as np\n",
        "from numpy.random import Generator, PCG64\n",
        "from matplotlib import ticker\n",
        "import matplotlib.pyplot as plt\n",
        "import tensorflow as tf\n",
        "from tensorflow.keras.optimizers import Adam\n",
        "from keras import backend as K\n",
        "from keras.layers import Dense\n",
        "from keras.models import Model, Sequential\n",
        "from keras.callbacks import ModelCheckpoint, Callback, EarlyStopping\n",
        "from sklearn.model_selection import train_test_split\n",
        "import random\n",
        "import os\n",
        "from google.colab import drive"
      ]
    },
    {
      "cell_type": "code",
      "source": [
        "# Configuration Set\n",
        "\n",
        "# 1. Set the lead time (min). Options: '15' or '120'.\n",
        "LEAD_TIME = '120'\n",
        "\n",
        "# 2. Set the path to the dataset in the GitHub repository\n",
        "PATH_DATA = 'https://raw.githubusercontent.com/jaqueline-soares/TGIS2024/main/data/data_prev' + LEAD_TIME + 'min.csv'\n",
        "\n",
        "# 3. Set the root path on Google Drive to save the result files\n",
        "drive.mount('/content/drive/')\n",
        "PATH_RESULT = '/content/drive/My Drive/TGIS2024/results/'"
      ],
      "metadata": {
        "id": "2pFg7297CNpf",
        "colab": {
          "base_uri": "https://localhost:8080/"
        },
        "outputId": "92f85d68-ec27-411f-906a-a7f2a6a73b40"
      },
      "execution_count": 3,
      "outputs": [
        {
          "output_type": "stream",
          "name": "stdout",
          "text": [
            "Mounted at /content/drive/\n"
          ]
        }
      ]
    },
    {
      "cell_type": "code",
      "execution_count": 4,
      "metadata": {
        "id": "h4w_tMREo5ay"
      },
      "outputs": [],
      "source": [
        "# This function calculates the Nash–Sutcliffe efficiency coefficient for the predicted values \"y_pred\" relative to the \"y_true\".\n",
        "def nse(y_true, y_pred):\n",
        "\treturn 1 - (K.sum((y_true - y_pred)**2)/\n",
        "                         K.sum((y_true - K.mean(y_true))**2))\n",
        "\n",
        "# This function calculates the RMSE between the predicted values \"y_pred\" and the observed ones \"y_true\".\n",
        "def rmse(y_true, y_pred):\n",
        "\treturn K.sqrt(K.mean(K.square(y_pred - y_true), axis=-1))\n",
        "\n",
        "# This function returns the best (highest) of the nse values\n",
        "def get_max_nse(history):\n",
        "    validation = history.history[\"val_nse\"]\n",
        "    ymax = max(validation)\n",
        "    return \"Max NSE ≈ \" + \"%.6f\" % ymax\n",
        "\n",
        "# This function returns the best (lowest) of the rmse values\n",
        "def get_min_rmse(history):\n",
        "    validation = history.history[\"val_rmse\"]\n",
        "    ymax = min(validation)\n",
        "    return \"Min RMSE ≈ \" + \"%.6f\" % ymax"
      ]
    },
    {
      "cell_type": "code",
      "source": [
        "# This function plots a histogram from data\n",
        "def plot_histogram(data, label):\n",
        "\n",
        "  color='tab:blue'\n",
        "  fontsize = 15\n",
        "\n",
        "  fig, axs = plt.subplots(figsize=(7,6))\n",
        "\n",
        "  n, bins, patches = axs.hist(data, bins = 15, weights=np.ones(len(data)) / len(data), color=color, alpha=0.6, edgecolor=\"black\")\n",
        "\n",
        "  plt.xlabel(label, fontsize=fontsize)\n",
        "  plt.ylabel('Frequency (%)', fontsize=fontsize)\n",
        "  plt.xticks(fontsize=fontsize)\n",
        "  plt.yticks(fontsize=fontsize)\n",
        "  axs.yaxis.set_major_formatter(ticker.FuncFormatter(lambda y, x: f'{int(y*100)}'))\n",
        "  plt.show()"
      ],
      "metadata": {
        "id": "bRHkAXiBIiUs"
      },
      "execution_count": 5,
      "outputs": []
    },
    {
      "cell_type": "code",
      "execution_count": 6,
      "metadata": {
        "id": "V3hHJ-7emxX8"
      },
      "outputs": [],
      "source": [
        "# This function returns the x values normalized\n",
        "def norm(x, min, max):\n",
        "    if (max - min) != 0:\n",
        "        return (x - min) / (max - min)\n",
        "    else:\n",
        "        return np.nan\n",
        "\n",
        "# This function returns the train_input, test_input, and val_input values normalized\n",
        "def normalize_data(data, train_input, test_input, val_input):\n",
        "\n",
        "  # Create empty datasets to store normalized data\n",
        "  normed_train_data = DataFrame(columns=columns)\n",
        "  normed_test_data = DataFrame(columns=columns)\n",
        "  normed_val_data = DataFrame(columns=columns)\n",
        "\n",
        "  # For each column\n",
        "  for var_col in columns:\n",
        "    MIN = data[var_col].min()\n",
        "    MAX = data[var_col].max()\n",
        "    normed_train_data[var_col] = norm(train_input[var_col], MIN, MAX)\n",
        "    normed_test_data[var_col] = norm(test_input[var_col], MIN, MAX)\n",
        "    normed_val_data[var_col] = norm(val_input[var_col], MIN, MAX)\n",
        "\n",
        "  return normed_train_data, normed_test_data, normed_val_data"
      ]
    },
    {
      "cell_type": "code",
      "execution_count": 7,
      "metadata": {
        "id": "6hz7uBYQpJui"
      },
      "outputs": [],
      "source": [
        "# This function loads the dataset from the repository\n",
        "def read_data(path):\n",
        "\n",
        "  data = pd.read_csv(path)\n",
        "\n",
        "  data['datahora'] = pd.to_datetime(data['datahora'])\n",
        "  data = data.set_index('datahora')\n",
        "  data = data[183:]\n",
        "  columns = []\n",
        "  for column in data.columns:\n",
        "    if 'acum12h' in column:\n",
        "     columns.append(column)\n",
        "\n",
        "  data.describe()\n",
        "  return data, columns"
      ]
    },
    {
      "cell_type": "code",
      "execution_count": 8,
      "metadata": {
        "id": "OlLe-PaZwO-Q"
      },
      "outputs": [],
      "source": [
        "class GetWeights(Callback):\n",
        "\n",
        "    # Keras callback which collects values of weights and biases at each epoch\n",
        "    def __init__(self):\n",
        "        super(GetWeights, self).__init__()\n",
        "        self.weight_dict = {}\n",
        "\n",
        "    # This function runs at the end of each epoch\n",
        "    def on_epoch_end(self, epoch, logs=None):\n",
        "\n",
        "        # loop over each layer and get weights and biases\n",
        "        for layer_i in range(len(self.model.layers)):\n",
        "            w = self.model.layers[layer_i].get_weights()[0]\n",
        "            b = self.model.layers[layer_i].get_weights()[1]\n",
        "\n",
        "            # save all weights and biases inside a dictionary\n",
        "            if epoch == 0:\n",
        "                # create arrays to hold weights and biases\n",
        "                self.weight_dict['w_'+str(layer_i+1)] = w\n",
        "                self.weight_dict['b_'+str(layer_i+1)] = b\n",
        "            else:\n",
        "                # append new weights to previously-created weights arrays\n",
        "                self.weight_dict['w_'+str(layer_i+1)] = np.dstack(\n",
        "                    (self.weight_dict['w_'+str(layer_i+1)], w))\n",
        "                self.weight_dict['b_'+str(layer_i+1)] = np.dstack(\n",
        "                    (self.weight_dict['b_'+str(layer_i+1)], b))"
      ]
    },
    {
      "cell_type": "code",
      "execution_count": 9,
      "metadata": {
        "id": "_ybY_2yjq5HT"
      },
      "outputs": [],
      "source": [
        "# This function splits arrays or matrices into train and test subsets\n",
        "def shuffle_train_test_split(data, columns, seed):\n",
        "\n",
        "  X_train, X_test, y_train, y_test = train_test_split(data[columns], data[['out']], test_size=0.1, random_state=seed)\n",
        "  X_train, X_val, y_train, y_val = train_test_split(X_train, y_train, test_size=0.1111, random_state=seed)\n",
        "\n",
        "  train_input = X_train[columns]\n",
        "  train_targets = y_train['out']\n",
        "\n",
        "  test_input = X_test[columns]\n",
        "  test_targets = y_test['out']\n",
        "\n",
        "  val_input = X_val[columns]\n",
        "  val_targets = y_val['out']\n",
        "\n",
        "  # reindex the datasets\n",
        "  train_input.reset_index(inplace=True, drop=True)\n",
        "  train_targets.reset_index(inplace=True, drop=True)\n",
        "\n",
        "  test_input.reset_index(inplace=True, drop=True)\n",
        "  test_targets.reset_index(inplace=True, drop=True)\n",
        "\n",
        "  val_input.reset_index(inplace=True, drop=True)\n",
        "  val_targets.reset_index(inplace=True, drop=True)\n",
        "\n",
        "  return train_input, train_targets, test_input, test_targets, val_input, val_targets"
      ]
    },
    {
      "cell_type": "code",
      "execution_count": 10,
      "metadata": {
        "id": "wlLmb_2IrME3"
      },
      "outputs": [],
      "source": [
        "# This function defines the neural network architecture\n",
        "def model_creation(normed_train_data):\n",
        "\n",
        "  input_dim = normed_train_data.shape[1]\n",
        "  output_dim = 1\n",
        "\n",
        "  model = Sequential()\n",
        "  model.add(Dense(120,input_shape=(input_dim,),activation=tf.keras.activations.relu))\n",
        "  model.add(Dense(50, activation=tf.keras.activations.relu))\n",
        "  model.add(Dense(10, activation=tf.keras.activations.relu))\n",
        "  model.add(Dense(output_dim, activation='linear' ))\n",
        "\n",
        "  return model\n",
        "\n",
        "# This function configures the model for training\n",
        "def model_compile(model):\n",
        "\n",
        "  opt = tf.keras.optimizers.Adam(learning_rate=1e-3)\n",
        "  model.compile(optimizer = opt, loss='mse', metrics=[rmse, nse])\n",
        "  checkpointer = ModelCheckpoint(filepath='checkpoint_model.hdf5', verbose=0, save_best_only=True)\n",
        "\n",
        "  return model\n",
        "\n",
        "# This function trains the model for a fixed number of epochs (dataset iterations)\n",
        "def model_training_validation(model, normed_train_data, train_targets, normed_val_data, val_targets):\n",
        "\n",
        "  gw = GetWeights()\n",
        "  es_callback = EarlyStopping(monitor='loss', patience=12)\n",
        "  model.fit(normed_train_data, train_targets, epochs=3000, batch_size=1024,\n",
        "                      validation_data=(normed_val_data, val_targets),\n",
        "                      callbacks=[es_callback], verbose=0)\n",
        "\n",
        "  return model\n",
        "\n",
        "# This function returns the loss value & metrics values for the model in test mode\n",
        "def model_tests(model, normed_test_data, test_targets):\n",
        "\n",
        "  loss, rmse_val, nse_val = model.evaluate(normed_test_data, test_targets, verbose=0, batch_size=1024)\n",
        "  return loss, rmse_val, nse_val"
      ]
    },
    {
      "cell_type": "code",
      "execution_count": 11,
      "metadata": {
        "id": "Q4x_lI8ZEKjf"
      },
      "outputs": [],
      "source": [
        "# This function constructs and returns a DataFrame from a dictionary with the metrics information\n",
        "def get_df_metrics(seed_array, rmse_array, nse_array):\n",
        "\n",
        "  dict = {\n",
        "      'seed': seed_array,\n",
        "      'rmse': rmse_array,\n",
        "      'nse': nse_array\n",
        "      }\n",
        "  df = DataFrame(data=dict)\n",
        "\n",
        "  return df"
      ]
    },
    {
      "cell_type": "code",
      "source": [
        "# This function resets the seeds to guarantee the reproducibility of the experiments\n",
        "def reset_seed(seed_value):\n",
        "\n",
        "  # Set the `PYTHONHASHSEED` environment variable at a fixed value\n",
        "  os.environ['PYTHONHASHSEED']=str(seed_value)\n",
        "\n",
        "  # Set the `python` built-in pseudo-random generator at a fixed value\n",
        "  random.seed(seed_value)\n",
        "\n",
        "  # Set the `numpy` pseudo-random generator at a fixed value\n",
        "  np.random.seed(seed_value)\n",
        "  np.random.RandomState(seed_value)\n",
        "\n",
        "  # Set the `tensorflow` pseudo-random generator at a fixed value\n",
        "  tf.random.set_seed(seed_value)\n",
        "  # for later versions:\n",
        "  tf.compat.v1.set_random_seed(seed_value)\n",
        "\n",
        "  # Configure a new global `tensorflow` session\n",
        "  # session_conf = tf.ConfigProto(intra_op_parallelism_threads=1, inter_op_parallelism_threads=1)\n",
        "  # sess = tf.Session(graph=tf.get_default_graph(), config=session_conf)\n",
        "  # K.set_session(sess)\n",
        "  # for later versions:\n",
        "  session_conf = tf.compat.v1.ConfigProto(intra_op_parallelism_threads=1, inter_op_parallelism_threads=1)\n",
        "  sess = tf.compat.v1.Session(graph=tf.compat.v1.get_default_graph(), config=session_conf)\n",
        "  tf.compat.v1.keras.backend.set_session(sess)"
      ],
      "metadata": {
        "id": "7ehq9mlnhx8S"
      },
      "execution_count": 12,
      "outputs": []
    },
    {
      "cell_type": "code",
      "execution_count": 13,
      "metadata": {
        "id": "vrdKIfyBmPTR",
        "colab": {
          "base_uri": "https://localhost:8080/"
        },
        "outputId": "0c1aa25e-fc8b-406c-931b-aff429b9b13a"
      },
      "outputs": [
        {
          "output_type": "stream",
          "name": "stdout",
          "text": [
            "Experiment #1: Seed 77653\n",
            "Experiment #2: Seed 95600\n",
            "Experiment #3: Seed 26401\n",
            "Experiment #4: Seed 20768\n",
            "Experiment #5: Seed 79258\n",
            "Experiment #6: Seed 82844\n",
            "Experiment #7: Seed 51472\n",
            "Experiment #8: Seed 14928\n",
            "Experiment #9: Seed 83287\n",
            "Experiment #10: Seed 51280\n",
            "Experiment #11: Seed 15334\n",
            "Experiment #12: Seed 13591\n",
            "Experiment #13: Seed 41092\n",
            "Experiment #14: Seed 68903\n",
            "Experiment #15: Seed 40366\n",
            "Experiment #16: Seed 84174\n",
            "Experiment #17: Seed 812\n",
            "Experiment #18: Seed 42550\n",
            "Experiment #19: Seed 52419\n",
            "Experiment #20: Seed 95692\n",
            "Experiment #21: Seed 23533\n",
            "Experiment #22: Seed 82533\n",
            "Experiment #23: Seed 7183\n",
            "Experiment #24: Seed 33821\n",
            "Experiment #25: Seed 74872\n",
            "Experiment #26: Seed 57576\n",
            "Experiment #27: Seed 93872\n",
            "Experiment #28: Seed 75330\n",
            "Experiment #29: Seed 91434\n",
            "Experiment #30: Seed 82710\n",
            "Experiment #31: Seed 13579\n",
            "Experiment #32: Seed 93343\n",
            "Experiment #33: Seed 84459\n",
            "Experiment #34: Seed 14499\n",
            "Experiment #35: Seed 97848\n",
            "Experiment #36: Seed 74558\n",
            "Experiment #37: Seed 31431\n",
            "Experiment #38: Seed 13935\n",
            "Experiment #39: Seed 38858\n",
            "Experiment #40: Seed 90652\n",
            "Experiment #41: Seed 78565\n",
            "Experiment #42: Seed 22611\n",
            "Experiment #43: Seed 49179\n",
            "Experiment #44: Seed 85323\n",
            "Experiment #45: Seed 64099\n",
            "Experiment #46: Seed 30631\n",
            "Experiment #47: Seed 11379\n",
            "Experiment #48: Seed 96983\n",
            "Experiment #49: Seed 23433\n",
            "Experiment #50: Seed 51783\n",
            "Experiment #51: Seed 69226\n",
            "Experiment #52: Seed 32247\n",
            "Experiment #53: Seed 51655\n",
            "Experiment #54: Seed 28243\n",
            "Experiment #55: Seed 83668\n",
            "Experiment #56: Seed 60586\n",
            "Experiment #57: Seed 17676\n",
            "Experiment #58: Seed 33376\n",
            "Experiment #59: Seed 68798\n",
            "Experiment #60: Seed 67864\n",
            "Experiment #61: Seed 31203\n",
            "Experiment #62: Seed 15442\n",
            "Experiment #63: Seed 14845\n",
            "Experiment #64: Seed 24977\n",
            "Experiment #65: Seed 78956\n",
            "Experiment #66: Seed 86989\n",
            "Experiment #67: Seed 34307\n",
            "Experiment #68: Seed 60036\n",
            "Experiment #69: Seed 49958\n",
            "Experiment #70: Seed 26198\n",
            "Experiment #71: Seed 53043\n",
            "Experiment #72: Seed 14941\n",
            "Experiment #73: Seed 48654\n",
            "Experiment #74: Seed 13678\n",
            "Experiment #75: Seed 24513\n",
            "Experiment #76: Seed 24892\n",
            "Experiment #77: Seed 2200\n",
            "Experiment #78: Seed 38282\n",
            "Experiment #79: Seed 72048\n",
            "Experiment #80: Seed 64907\n",
            "Experiment #81: Seed 77705\n",
            "Experiment #82: Seed 83756\n",
            "Experiment #83: Seed 6120\n",
            "Experiment #84: Seed 77603\n",
            "Experiment #85: Seed 11445\n",
            "Experiment #86: Seed 33951\n",
            "Experiment #87: Seed 8761\n",
            "Experiment #88: Seed 14856\n",
            "Experiment #89: Seed 48169\n",
            "Experiment #90: Seed 45701\n",
            "Experiment #91: Seed 35744\n",
            "Experiment #92: Seed 43786\n",
            "Experiment #93: Seed 42141\n",
            "Experiment #94: Seed 57421\n",
            "Experiment #95: Seed 62296\n",
            "Experiment #96: Seed 37326\n",
            "Experiment #97: Seed 75553\n",
            "Experiment #98: Seed 63382\n",
            "Experiment #99: Seed 48633\n",
            "Experiment #100: Seed 11464\n"
          ]
        }
      ],
      "source": [
        "# Main flow\n",
        "\n",
        "# Load dataset from PATH_DATA\n",
        "data, columns = read_data(PATH_DATA)\n",
        "\n",
        "# Initialize arrays of metrics\n",
        "rmse_array = []\n",
        "nse_array = []\n",
        "\n",
        "# Set the initial seed used to generate the other 100 random seeds\n",
        "seed_initial = 10\n",
        "# Set the lowest integer to be drawn from the distribution\n",
        "seed_low = 0\n",
        "# Set one above the largest integer to be drawn from the distribution\n",
        "seed_high = 10**5\n",
        "# Set the number of samples to be drawn from the distribution\n",
        "seed_size = 100\n",
        "# Set the `tensorflow` pseudo-random generator at a fixed value\n",
        "SEED = 0\n",
        "\n",
        "# Set the generator seed\n",
        "generator = Generator(PCG64(seed_initial))\n",
        "# Get random integers from low (inclusive) to high (exclusive)\n",
        "seed_array = generator.integers(low=seed_low, high=seed_high, size=seed_size)\n",
        "\n",
        "# Loop of 100 experiments\n",
        "for i in range(seed_array.size):\n",
        "\n",
        "  # Clear clutter from previous session graphs\n",
        "  K.clear_session()\n",
        "  reset_seed(SEED)\n",
        "\n",
        "  print(\"Experiment #{}: Seed {}\".format(i+1, seed_array[i]))\n",
        "  train_input, train_targets, test_input, test_targets, val_input, val_targets = shuffle_train_test_split(data, columns, seed_array[i])\n",
        "  normed_train_data, normed_test_data, normed_val_data = normalize_data(data, train_input, test_input, val_input)\n",
        "  model = model_creation(normed_train_data)\n",
        "  model = model_compile(model)\n",
        "  model = model_training_validation(model, normed_train_data, train_targets, normed_val_data, val_targets)\n",
        "  loss, rmse_val, nse_val = model_tests(model, normed_test_data, test_targets)\n",
        "  rmse_array.append(rmse_val)\n",
        "  nse_array.append(nse_val)"
      ]
    },
    {
      "cell_type": "code",
      "execution_count": 14,
      "metadata": {
        "id": "E2O3K4-dJiRC",
        "colab": {
          "base_uri": "https://localhost:8080/",
          "height": 424
        },
        "outputId": "19edfd5d-0d8b-46c6-c88d-baaa2da5e108"
      },
      "outputs": [
        {
          "output_type": "execute_result",
          "data": {
            "text/plain": [
              "     seed      rmse       nse\n",
              "0   77653  0.040342  0.848042\n",
              "1   95600  0.034799  0.890469\n",
              "2   26401  0.034914  0.864365\n",
              "3   20768  0.033552  0.854273\n",
              "4   79258  0.037297  0.859380\n",
              "..    ...       ...       ...\n",
              "95  37326  0.039973  0.798882\n",
              "96  75553  0.046751  0.795836\n",
              "97  63382  0.041849  0.814689\n",
              "98  48633  0.039069  0.866475\n",
              "99  11464  0.051400  0.779229\n",
              "\n",
              "[100 rows x 3 columns]"
            ],
            "text/html": [
              "\n",
              "  <div id=\"df-3b09a8d9-cf21-4bc8-a4a5-bfd214f538af\" class=\"colab-df-container\">\n",
              "    <div>\n",
              "<style scoped>\n",
              "    .dataframe tbody tr th:only-of-type {\n",
              "        vertical-align: middle;\n",
              "    }\n",
              "\n",
              "    .dataframe tbody tr th {\n",
              "        vertical-align: top;\n",
              "    }\n",
              "\n",
              "    .dataframe thead th {\n",
              "        text-align: right;\n",
              "    }\n",
              "</style>\n",
              "<table border=\"1\" class=\"dataframe\">\n",
              "  <thead>\n",
              "    <tr style=\"text-align: right;\">\n",
              "      <th></th>\n",
              "      <th>seed</th>\n",
              "      <th>rmse</th>\n",
              "      <th>nse</th>\n",
              "    </tr>\n",
              "  </thead>\n",
              "  <tbody>\n",
              "    <tr>\n",
              "      <th>0</th>\n",
              "      <td>77653</td>\n",
              "      <td>0.040342</td>\n",
              "      <td>0.848042</td>\n",
              "    </tr>\n",
              "    <tr>\n",
              "      <th>1</th>\n",
              "      <td>95600</td>\n",
              "      <td>0.034799</td>\n",
              "      <td>0.890469</td>\n",
              "    </tr>\n",
              "    <tr>\n",
              "      <th>2</th>\n",
              "      <td>26401</td>\n",
              "      <td>0.034914</td>\n",
              "      <td>0.864365</td>\n",
              "    </tr>\n",
              "    <tr>\n",
              "      <th>3</th>\n",
              "      <td>20768</td>\n",
              "      <td>0.033552</td>\n",
              "      <td>0.854273</td>\n",
              "    </tr>\n",
              "    <tr>\n",
              "      <th>4</th>\n",
              "      <td>79258</td>\n",
              "      <td>0.037297</td>\n",
              "      <td>0.859380</td>\n",
              "    </tr>\n",
              "    <tr>\n",
              "      <th>...</th>\n",
              "      <td>...</td>\n",
              "      <td>...</td>\n",
              "      <td>...</td>\n",
              "    </tr>\n",
              "    <tr>\n",
              "      <th>95</th>\n",
              "      <td>37326</td>\n",
              "      <td>0.039973</td>\n",
              "      <td>0.798882</td>\n",
              "    </tr>\n",
              "    <tr>\n",
              "      <th>96</th>\n",
              "      <td>75553</td>\n",
              "      <td>0.046751</td>\n",
              "      <td>0.795836</td>\n",
              "    </tr>\n",
              "    <tr>\n",
              "      <th>97</th>\n",
              "      <td>63382</td>\n",
              "      <td>0.041849</td>\n",
              "      <td>0.814689</td>\n",
              "    </tr>\n",
              "    <tr>\n",
              "      <th>98</th>\n",
              "      <td>48633</td>\n",
              "      <td>0.039069</td>\n",
              "      <td>0.866475</td>\n",
              "    </tr>\n",
              "    <tr>\n",
              "      <th>99</th>\n",
              "      <td>11464</td>\n",
              "      <td>0.051400</td>\n",
              "      <td>0.779229</td>\n",
              "    </tr>\n",
              "  </tbody>\n",
              "</table>\n",
              "<p>100 rows × 3 columns</p>\n",
              "</div>\n",
              "    <div class=\"colab-df-buttons\">\n",
              "\n",
              "  <div class=\"colab-df-container\">\n",
              "    <button class=\"colab-df-convert\" onclick=\"convertToInteractive('df-3b09a8d9-cf21-4bc8-a4a5-bfd214f538af')\"\n",
              "            title=\"Convert this dataframe to an interactive table.\"\n",
              "            style=\"display:none;\">\n",
              "\n",
              "  <svg xmlns=\"http://www.w3.org/2000/svg\" height=\"24px\" viewBox=\"0 -960 960 960\">\n",
              "    <path d=\"M120-120v-720h720v720H120Zm60-500h600v-160H180v160Zm220 220h160v-160H400v160Zm0 220h160v-160H400v160ZM180-400h160v-160H180v160Zm440 0h160v-160H620v160ZM180-180h160v-160H180v160Zm440 0h160v-160H620v160Z\"/>\n",
              "  </svg>\n",
              "    </button>\n",
              "\n",
              "  <style>\n",
              "    .colab-df-container {\n",
              "      display:flex;\n",
              "      gap: 12px;\n",
              "    }\n",
              "\n",
              "    .colab-df-convert {\n",
              "      background-color: #E8F0FE;\n",
              "      border: none;\n",
              "      border-radius: 50%;\n",
              "      cursor: pointer;\n",
              "      display: none;\n",
              "      fill: #1967D2;\n",
              "      height: 32px;\n",
              "      padding: 0 0 0 0;\n",
              "      width: 32px;\n",
              "    }\n",
              "\n",
              "    .colab-df-convert:hover {\n",
              "      background-color: #E2EBFA;\n",
              "      box-shadow: 0px 1px 2px rgba(60, 64, 67, 0.3), 0px 1px 3px 1px rgba(60, 64, 67, 0.15);\n",
              "      fill: #174EA6;\n",
              "    }\n",
              "\n",
              "    .colab-df-buttons div {\n",
              "      margin-bottom: 4px;\n",
              "    }\n",
              "\n",
              "    [theme=dark] .colab-df-convert {\n",
              "      background-color: #3B4455;\n",
              "      fill: #D2E3FC;\n",
              "    }\n",
              "\n",
              "    [theme=dark] .colab-df-convert:hover {\n",
              "      background-color: #434B5C;\n",
              "      box-shadow: 0px 1px 3px 1px rgba(0, 0, 0, 0.15);\n",
              "      filter: drop-shadow(0px 1px 2px rgba(0, 0, 0, 0.3));\n",
              "      fill: #FFFFFF;\n",
              "    }\n",
              "  </style>\n",
              "\n",
              "    <script>\n",
              "      const buttonEl =\n",
              "        document.querySelector('#df-3b09a8d9-cf21-4bc8-a4a5-bfd214f538af button.colab-df-convert');\n",
              "      buttonEl.style.display =\n",
              "        google.colab.kernel.accessAllowed ? 'block' : 'none';\n",
              "\n",
              "      async function convertToInteractive(key) {\n",
              "        const element = document.querySelector('#df-3b09a8d9-cf21-4bc8-a4a5-bfd214f538af');\n",
              "        const dataTable =\n",
              "          await google.colab.kernel.invokeFunction('convertToInteractive',\n",
              "                                                    [key], {});\n",
              "        if (!dataTable) return;\n",
              "\n",
              "        const docLinkHtml = 'Like what you see? Visit the ' +\n",
              "          '<a target=\"_blank\" href=https://colab.research.google.com/notebooks/data_table.ipynb>data table notebook</a>'\n",
              "          + ' to learn more about interactive tables.';\n",
              "        element.innerHTML = '';\n",
              "        dataTable['output_type'] = 'display_data';\n",
              "        await google.colab.output.renderOutput(dataTable, element);\n",
              "        const docLink = document.createElement('div');\n",
              "        docLink.innerHTML = docLinkHtml;\n",
              "        element.appendChild(docLink);\n",
              "      }\n",
              "    </script>\n",
              "  </div>\n",
              "\n",
              "\n",
              "<div id=\"df-893ffe97-d9bb-4a11-81d0-d043516fe655\">\n",
              "  <button class=\"colab-df-quickchart\" onclick=\"quickchart('df-893ffe97-d9bb-4a11-81d0-d043516fe655')\"\n",
              "            title=\"Suggest charts\"\n",
              "            style=\"display:none;\">\n",
              "\n",
              "<svg xmlns=\"http://www.w3.org/2000/svg\" height=\"24px\"viewBox=\"0 0 24 24\"\n",
              "     width=\"24px\">\n",
              "    <g>\n",
              "        <path d=\"M19 3H5c-1.1 0-2 .9-2 2v14c0 1.1.9 2 2 2h14c1.1 0 2-.9 2-2V5c0-1.1-.9-2-2-2zM9 17H7v-7h2v7zm4 0h-2V7h2v10zm4 0h-2v-4h2v4z\"/>\n",
              "    </g>\n",
              "</svg>\n",
              "  </button>\n",
              "\n",
              "<style>\n",
              "  .colab-df-quickchart {\n",
              "      --bg-color: #E8F0FE;\n",
              "      --fill-color: #1967D2;\n",
              "      --hover-bg-color: #E2EBFA;\n",
              "      --hover-fill-color: #174EA6;\n",
              "      --disabled-fill-color: #AAA;\n",
              "      --disabled-bg-color: #DDD;\n",
              "  }\n",
              "\n",
              "  [theme=dark] .colab-df-quickchart {\n",
              "      --bg-color: #3B4455;\n",
              "      --fill-color: #D2E3FC;\n",
              "      --hover-bg-color: #434B5C;\n",
              "      --hover-fill-color: #FFFFFF;\n",
              "      --disabled-bg-color: #3B4455;\n",
              "      --disabled-fill-color: #666;\n",
              "  }\n",
              "\n",
              "  .colab-df-quickchart {\n",
              "    background-color: var(--bg-color);\n",
              "    border: none;\n",
              "    border-radius: 50%;\n",
              "    cursor: pointer;\n",
              "    display: none;\n",
              "    fill: var(--fill-color);\n",
              "    height: 32px;\n",
              "    padding: 0;\n",
              "    width: 32px;\n",
              "  }\n",
              "\n",
              "  .colab-df-quickchart:hover {\n",
              "    background-color: var(--hover-bg-color);\n",
              "    box-shadow: 0 1px 2px rgba(60, 64, 67, 0.3), 0 1px 3px 1px rgba(60, 64, 67, 0.15);\n",
              "    fill: var(--button-hover-fill-color);\n",
              "  }\n",
              "\n",
              "  .colab-df-quickchart-complete:disabled,\n",
              "  .colab-df-quickchart-complete:disabled:hover {\n",
              "    background-color: var(--disabled-bg-color);\n",
              "    fill: var(--disabled-fill-color);\n",
              "    box-shadow: none;\n",
              "  }\n",
              "\n",
              "  .colab-df-spinner {\n",
              "    border: 2px solid var(--fill-color);\n",
              "    border-color: transparent;\n",
              "    border-bottom-color: var(--fill-color);\n",
              "    animation:\n",
              "      spin 1s steps(1) infinite;\n",
              "  }\n",
              "\n",
              "  @keyframes spin {\n",
              "    0% {\n",
              "      border-color: transparent;\n",
              "      border-bottom-color: var(--fill-color);\n",
              "      border-left-color: var(--fill-color);\n",
              "    }\n",
              "    20% {\n",
              "      border-color: transparent;\n",
              "      border-left-color: var(--fill-color);\n",
              "      border-top-color: var(--fill-color);\n",
              "    }\n",
              "    30% {\n",
              "      border-color: transparent;\n",
              "      border-left-color: var(--fill-color);\n",
              "      border-top-color: var(--fill-color);\n",
              "      border-right-color: var(--fill-color);\n",
              "    }\n",
              "    40% {\n",
              "      border-color: transparent;\n",
              "      border-right-color: var(--fill-color);\n",
              "      border-top-color: var(--fill-color);\n",
              "    }\n",
              "    60% {\n",
              "      border-color: transparent;\n",
              "      border-right-color: var(--fill-color);\n",
              "    }\n",
              "    80% {\n",
              "      border-color: transparent;\n",
              "      border-right-color: var(--fill-color);\n",
              "      border-bottom-color: var(--fill-color);\n",
              "    }\n",
              "    90% {\n",
              "      border-color: transparent;\n",
              "      border-bottom-color: var(--fill-color);\n",
              "    }\n",
              "  }\n",
              "</style>\n",
              "\n",
              "  <script>\n",
              "    async function quickchart(key) {\n",
              "      const quickchartButtonEl =\n",
              "        document.querySelector('#' + key + ' button');\n",
              "      quickchartButtonEl.disabled = true;  // To prevent multiple clicks.\n",
              "      quickchartButtonEl.classList.add('colab-df-spinner');\n",
              "      try {\n",
              "        const charts = await google.colab.kernel.invokeFunction(\n",
              "            'suggestCharts', [key], {});\n",
              "      } catch (error) {\n",
              "        console.error('Error during call to suggestCharts:', error);\n",
              "      }\n",
              "      quickchartButtonEl.classList.remove('colab-df-spinner');\n",
              "      quickchartButtonEl.classList.add('colab-df-quickchart-complete');\n",
              "    }\n",
              "    (() => {\n",
              "      let quickchartButtonEl =\n",
              "        document.querySelector('#df-893ffe97-d9bb-4a11-81d0-d043516fe655 button');\n",
              "      quickchartButtonEl.style.display =\n",
              "        google.colab.kernel.accessAllowed ? 'block' : 'none';\n",
              "    })();\n",
              "  </script>\n",
              "</div>\n",
              "\n",
              "    </div>\n",
              "  </div>\n"
            ],
            "application/vnd.google.colaboratory.intrinsic+json": {
              "type": "dataframe",
              "variable_name": "df",
              "summary": "{\n  \"name\": \"df\",\n  \"rows\": 100,\n  \"fields\": [\n    {\n      \"column\": \"seed\",\n      \"properties\": {\n        \"dtype\": \"number\",\n        \"std\": 27901,\n        \"min\": 812,\n        \"max\": 97848,\n        \"num_unique_values\": 100,\n        \"samples\": [\n          77603,\n          28243,\n          53043\n        ],\n        \"semantic_type\": \"\",\n        \"description\": \"\"\n      }\n    },\n    {\n      \"column\": \"rmse\",\n      \"properties\": {\n        \"dtype\": \"number\",\n        \"std\": 0.0052241193416927385,\n        \"min\": 0.030871760100126266,\n        \"max\": 0.06076011806726456,\n        \"num_unique_values\": 100,\n        \"samples\": [\n          0.04018399864435196,\n          0.040046900510787964,\n          0.03996933251619339\n        ],\n        \"semantic_type\": \"\",\n        \"description\": \"\"\n      }\n    },\n    {\n      \"column\": \"nse\",\n      \"properties\": {\n        \"dtype\": \"number\",\n        \"std\": 0.05610231021043037,\n        \"min\": 0.47747600078582764,\n        \"max\": 0.9028797149658203,\n        \"num_unique_values\": 100,\n        \"samples\": [\n          0.8287084102630615,\n          0.8560577630996704,\n          0.8508448004722595\n        ],\n        \"semantic_type\": \"\",\n        \"description\": \"\"\n      }\n    }\n  ]\n}"
            }
          },
          "metadata": {},
          "execution_count": 14
        }
      ],
      "source": [
        "df = get_df_metrics(seed_array, rmse_array, nse_array)\n",
        "df.head(seed_size)"
      ]
    },
    {
      "cell_type": "code",
      "execution_count": 15,
      "metadata": {
        "id": "-fZaaNCh9kd6",
        "colab": {
          "base_uri": "https://localhost:8080/",
          "height": 554
        },
        "outputId": "0eff7725-2c97-447a-fc39-59e5a94b81b8"
      },
      "outputs": [
        {
          "output_type": "display_data",
          "data": {
            "text/plain": [
              "<Figure size 700x600 with 1 Axes>"
            ],
            "image/png": "[encoded data removed]"
          },
          "metadata": {}
        }
      ],
      "source": [
        "plot_histogram(df['rmse'], 'RMSE (m)')"
      ]
    },
    {
      "cell_type": "code",
      "source": [
        "plot_histogram(df['nse'], 'NSE')"
      ],
      "metadata": {
        "id": "MbDof9bX_GZ8",
        "colab": {
          "base_uri": "https://localhost:8080/",
          "height": 554
        },
        "outputId": "3f8363ce-44c6-4184-d10f-496658c8b15e"
      },
      "execution_count": 16,
      "outputs": [
        {
          "output_type": "display_data",
          "data": {
            "text/plain": [
              "<Figure size 700x600 with 1 Axes>"
            ],
            "image/png": "[encoded data removed]"
          },
          "metadata": {}
        }
      ]
    },
    {
      "cell_type": "code",
      "execution_count": 18,
      "metadata": {
        "id": "Z3Rho25lEqCU",
        "colab": {
          "base_uri": "https://localhost:8080/"
        },
        "outputId": "0c614ee7-30ab-4280-f481-86a2d44a7d2c"
      },
      "outputs": [
        {
          "output_type": "execute_result",
          "data": {
            "text/plain": [
              "seed    97848.000000\n",
              "rmse        0.030929\n",
              "nse         0.902880\n",
              "Name: 34, dtype: float64"
            ]
          },
          "metadata": {},
          "execution_count": 18
        }
      ],
      "source": [
        "df.iloc[df['nse'].idxmax()]"
      ]
    },
    {
      "cell_type": "code",
      "execution_count": 19,
      "metadata": {
        "id": "Jyo3AxI5GE9_",
        "colab": {
          "base_uri": "https://localhost:8080/"
        },
        "outputId": "9a15816a-8e3b-4e8e-8220-f49b57e2b4c3"
      },
      "outputs": [
        {
          "output_type": "execute_result",
          "data": {
            "text/plain": [
              "seed    31203.000000\n",
              "rmse        0.030872\n",
              "nse         0.882143\n",
              "Name: 60, dtype: float64"
            ]
          },
          "metadata": {},
          "execution_count": 19
        }
      ],
      "source": [
        "df.iloc[df['rmse'].idxmin()]"
      ]
    },
    {
      "cell_type": "code",
      "execution_count": 20,
      "metadata": {
        "id": "eyGe1bHy-I5f"
      },
      "outputs": [],
      "source": [
        "# Write the result in a CSV file\n",
        "df.to_csv(PATH_RESULT + 'result_prev' + LEAD_TIME + 'min.csv')"
      ]
    }
  ],
  "metadata": {
    "colab": {
      "provenance": []
    },
    "kernelspec": {
      "display_name": "Python 3",
      "name": "python3"
    },
    "language_info": {
      "name": "python"
    }
  },
  "nbformat": 4,
  "nbformat_minor": 0
}